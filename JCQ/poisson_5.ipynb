{
 "cells": [
  {
   "attachments": {},
   "cell_type": "markdown",
   "metadata": {},
   "source": [
    "# Solucion Distribucion Poisson #5\n",
    "\n",
    "* **Juan camilo Quiroga Molina**\n",
    "* **Punto 5**\n",
    "* **Distribucion Poisson**\n",
    "\n",
    "### Enunciado\n",
    "5. El número de solicitudes de ayuda recibidas por un servicio de grúas es un proceso de Poisson con razón cuatro por hora\n",
    "\n",
    "* i) Calcule la probabilidad de que exactamente diez solicitudes sean recibidas durante un periodo particular de 2 horas. (Rta: 0.099)\n",
    "* ii) Si los operadores del servicio de grúas hacen una pausa de 30 minutos para el almuerzo, ¿cuál es la probabilidad de que no dejen de atender llamadas de ayuda? (Rta: 0.135)\n",
    "* iii) ¿Cuántas llamadas esperaría durante esta pausa? (Rta: 2)"
   ]
  },
  {
   "cell_type": "code",
   "execution_count": 10,
   "metadata": {},
   "outputs": [
    {
     "name": "stdout",
     "output_type": "stream",
     "text": [
      "i)La probabilidad de que exactamente 10 solicitudes sean recibidas en 2 horas es 0.09926\n",
      "ii)La probabilidad de que si se tomen una pasusa para el almuerzo de 30 minutos y atiendan es 0.13534\n",
      "iii)El numero de llamadas que se esperaria durante esa pausa de 30 minutos seria de 2\n",
      "Hecho por Juan Camilo Quiroga\n"
     ]
    }
   ],
   "source": [
    "#Solucion\n",
    "\n",
    "from math import e #Importar el numero euler\n",
    "\n",
    "#i) Calcule la probabilidad de que exactamente diez solicitudes sean recibidas durante un periodo particular \n",
    "#de 2 horas. (Rta: 0.099)\n",
    "\n",
    "def fac(n): #Funcion factorial de un numero\n",
    "   if n==0 or n==1:\n",
    "            resultado=1\n",
    "   elif n>1:\n",
    "            resultado=n*fac(n-1)\n",
    "   return resultado\n",
    "\n",
    "def poi(l,k): #Funcion Poisson\n",
    "    poisson = (((l)**k)/(fac(k)))*((e)**(-l))\n",
    "    return poisson\n",
    "\n",
    "l= 4 * 2 #lambda o razon de cambio: 4 por hora, 8 por 2 horas, 2 por media hora\n",
    "k= 10 #solicitudes de llamada\n",
    "\n",
    "res1 = poi(l,k) #Poison P(X=10)\n",
    "\n",
    "print(\"i)La probabilidad de que exactamente 10 solicitudes sean recibidas en 2 horas es\",round(res1,5))\n",
    "\n",
    "\n",
    "#ii) Si los operadores del servicio de grúas hacen una pausa de 30 minutos para el almuerzo, ¿cuál es la probabilidad de\n",
    "#que no dejen de atender llamadas de ayuda? (Rta: 0.135)\n",
    "\n",
    "l= 4 / 2 #lambda cambia porque se dice una pausa de 30 mminutos, y como es la mitad de una hora, debe ser la mitad de 4\n",
    "k= 0 #solicitudes de llamada\n",
    "\n",
    "res2 = poi(l,k) #Poisson P(X=0)\n",
    "\n",
    "print(\"ii)La probabilidad de que si se tomen una pasusa para el almuerzo de 30 minutos y atiendan es\",round(res2,5))\n",
    "\n",
    "#iii) ¿Cuántas llamadas esperaría durante esta pausa? (Rta: 2)\n",
    "\n",
    "#si lamda es 4 por hora y se toman un descanso de media hora, se usa regla de 3\n",
    "\n",
    "res3= int(4* (30/60)) #cambio de llamadas segun el tiempo\n",
    "\n",
    "print(\"iii)El numero de llamadas que se esperaria durante esa pausa de 30 minutos seria de\",res3)\n",
    "\n",
    "print(\"Hecho por Juan Camilo Quiroga\")"
   ]
  }
 ],
 "metadata": {
  "kernelspec": {
   "display_name": "base",
   "language": "python",
   "name": "python3"
  },
  "language_info": {
   "codemirror_mode": {
    "name": "ipython",
    "version": 3
   },
   "file_extension": ".py",
   "mimetype": "text/x-python",
   "name": "python",
   "nbconvert_exporter": "python",
   "pygments_lexer": "ipython3",
   "version": "3.9.13"
  },
  "orig_nbformat": 4
 },
 "nbformat": 4,
 "nbformat_minor": 2
}
