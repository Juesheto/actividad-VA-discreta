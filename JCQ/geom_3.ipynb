{
 "cells": [
  {
   "attachments": {},
   "cell_type": "markdown",
   "metadata": {},
   "source": [
    "# Solucion Distribucion Geometrica #3\n",
    "\n",
    "* **Juan camilo Quiroga Molina**\n",
    "* **Punto 3**\n",
    "* **Distribucion Geometrica**\n",
    "\n",
    "### Enunciado\n",
    "3. La probabilidad de que llegue un cliente al mostrador de servicio de una tienda en un segundo cualquiera es\n",
    "igual a 0.1. Suponga que llegan clientes en forma aleatoria y por tanto que una llegada en un segundo\n",
    "cualquiera es independiente de las otras. Encuentre la probabilidad de que la primera llegada:\n",
    "\n",
    "* i) Ocurra durante el tercer intervalo de un segundo. (Rta: 0.081)\n",
    "* ii) No ocurra hasta al menos el tercer intervalo de un segundo. (Rta: 0.81)"
   ]
  },
  {
   "cell_type": "code",
   "execution_count": 8,
   "metadata": {},
   "outputs": [
    {
     "name": "stdout",
     "output_type": "stream",
     "text": [
      "i)La probabilidad de que la primera llegada ocurra durante el tercer intervalo de segundo es 0.081\n",
      "i)La probabilidad de que la primera llegada no ocurra hasta al menos el tercer intervalo de segundo es 0.81\n",
      "Hecho por Juan Camilo Quiroga\n"
     ]
    }
   ],
   "source": [
    "#Solucion\n",
    "\n",
    "#i)Ocurra durante el tercer intervalo de un segundo. (Rta: 0.081)\n",
    "\n",
    "def geo(Y,p,q): #Funcion Geometrica\n",
    "    geom= ((q)**(Y-1))*p\n",
    "    return geom\n",
    "\n",
    "p= 0.1 #Probabilidad que llegue un cliente en un segundo cualquiera\n",
    "q= 1-p #Probabilidad de que no llegue un cliente en un segundo cualquiera\n",
    "Y= 3 #Intervalo de segundo hasta que llegue la primera persona\n",
    "\n",
    "res1= geo(Y,p,q) #Geometrica P(Y=3)\n",
    "print(\"i)La probabilidad de que la primera llegada ocurra durante el tercer intervalo de segundo es\",round(res1,5))\n",
    "\n",
    "#ii)No ocurra hasta al menos el tercer intervalo de un segundo. (Rta: 0.81)\n",
    "\n",
    "res2= q**2 #Geometrica P(Y>=3) = P(Y>2)\n",
    "print(\"i)La probabilidad de que la primera llegada no ocurra hasta al menos el tercer intervalo de segundo es\",round(res2,5))\n",
    "\n",
    "print(\"Hecho por Juan Camilo Quiroga\")"
   ]
  }
 ],
 "metadata": {
  "kernelspec": {
   "display_name": "base",
   "language": "python",
   "name": "python3"
  },
  "language_info": {
   "codemirror_mode": {
    "name": "ipython",
    "version": 3
   },
   "file_extension": ".py",
   "mimetype": "text/x-python",
   "name": "python",
   "nbconvert_exporter": "python",
   "pygments_lexer": "ipython3",
   "version": "3.9.13"
  },
  "orig_nbformat": 4
 },
 "nbformat": 4,
 "nbformat_minor": 2
}
