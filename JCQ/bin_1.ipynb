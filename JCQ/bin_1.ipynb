{
 "cells": [
  {
   "attachments": {},
   "cell_type": "markdown",
   "metadata": {},
   "source": [
    "# Solucion Distribucion Binomial #1\n",
    "\n",
    "* **Juan camilo Quiroga Molina**\n",
    "* **Punto 1**\n",
    "* **Distribucion binomial**\n",
    "\n",
    "### Enunciado\n",
    "1. Se construye un complejo sistema electrónico con cierto número de piezas de respaldo en sus subsistemas. Un\n",
    "subsistema tiene cuatro componentes idénticos, cada uno con una probabilidad de 0.2 de fallar en menos de\n",
    "1000 horas. El subsistema funciona si dos de los cuatro componentes están operando. Suponga que los\n",
    "componentes operan de manera independiente. Encuentre la probabilidad de que\n",
    "\n",
    "* i) Exactamente dos de los cuatro componentes dure más de 1000 horas. (Rta: 0.1536)\n",
    "* ii) El subsistema opere más de 1000 horas. (Rta: 0.9728)"
   ]
  },
  {
   "cell_type": "code",
   "execution_count": 17,
   "metadata": {},
   "outputs": [
    {
     "name": "stdout",
     "output_type": "stream",
     "text": [
      "i)La probabilidad de que exactamente dos de los cuatro componentes dure mas de 1000 horas es: 0.1536\n",
      "ii)La probabilidad de que el sistema opere mas de 1000 horas es: 0.9728\n",
      "Hecho por Juan Camilo Quiroga\n"
     ]
    }
   ],
   "source": [
    "#Solucion\n",
    "\n",
    "#i)Exactamente dos de los cuatro componentes dure más de 1000 horas. (Rta: 0.1536)\n",
    "\n",
    "def fac(n): #Funcion factorial de un numero\n",
    "   if n==0 or n==1:\n",
    "            resultado=1\n",
    "   elif n>1:\n",
    "            resultado=n*fac(n-1)\n",
    "   return resultado\n",
    "\n",
    "def bino(X,q,p,N): #Funcion Binomial\n",
    "    binomial= (fac(N)/(fac(X)*fac(N-X)))*((p)**X)*((q)**(N-X))\n",
    "    return binomial\n",
    "\n",
    "N=4 #Numero de componentes\n",
    "p= 0.2 #Probabilidad de perdida\n",
    "q= 1-p #Probabilidad de ganancia\n",
    "X=2 #es el numero de fallos\n",
    "\n",
    "res1=bino(X,q,p,N) #Binomial P(X=2)\n",
    "print(\"i)La probabilidad de que exactamente dos de los cuatro componentes dure mas de 1000 horas es:\",round(res1,5))\n",
    "\n",
    "#ii)El subsistema opere más de 1000 horas. (Rta: 0.9728)\n",
    "\n",
    "res2=bino(0,q,p,N)+bino(1,q,p,N)+bino(X,q,p,N) #Binomial P(X=0)+P(X=1)+P(X=2)\n",
    "print(\"ii)La probabilidad de que el sistema opere mas de 1000 horas es:\",round(res2,5))\n",
    "\n",
    "print(\"Hecho por Juan Camilo Quiroga\")"
   ]
  }
 ],
 "metadata": {
  "kernelspec": {
   "display_name": "base",
   "language": "python",
   "name": "python3"
  },
  "language_info": {
   "codemirror_mode": {
    "name": "ipython",
    "version": 3
   },
   "file_extension": ".py",
   "mimetype": "text/x-python",
   "name": "python",
   "nbconvert_exporter": "python",
   "pygments_lexer": "ipython3",
   "version": "3.9.13"
  },
  "orig_nbformat": 4
 },
 "nbformat": 4,
 "nbformat_minor": 2
}
