{
 "cells": [
  {
   "attachments": {},
   "cell_type": "markdown",
   "metadata": {},
   "source": [
    "# Solucion Distribucion Hipergeometrica #2\n",
    "\n",
    "* **Juan camilo Quiroga Molina**\n",
    "* **Punto 2**\n",
    "* **Distribucion Hipergeometrica**\n",
    "\n",
    "### Enunciado\n",
    "2. Es frecuente que las semillas sean tratadas con fungicidas para protegerlas en ambientes húmedos y con\n",
    "desecación defectuosa. Un intento a pequeña escala, que comprende cinco semillas tratadas y cinco no tratadas,\n",
    "fue realizado antes de un experimento a gran escala para explorar cuánto fungicida aplicar. Las semillas se\n",
    "plantaron en un suelo húmedo y se contó el número de plantas que brotaron. Si la solución no era efectiva y\n",
    "cuatro plantas brotaron en realidad, cuál es la probabilidad de que:\n",
    "\n",
    "* i) Las cuatro plantas brotaran de semillas tratadas. (Rta: 0.0238)\n",
    "* ii) Tres o menos brotaran de semillas tratadas. (Rta: 0.9762)\n",
    "* iii) Al menos una brotara de semillas no tratadas (Rta:: 0.9762)"
   ]
  },
  {
   "cell_type": "code",
   "execution_count": 5,
   "metadata": {},
   "outputs": [
    {
     "name": "stdout",
     "output_type": "stream",
     "text": [
      "i)La probabilidad de que las cuatro plantas brotaran de semillas tratadas es 0.02381\n",
      "ii)La probabilidad de que tres o menos brotaran de semillas tratadas es 0.97619\n",
      "iii)La probabilidad de quue al menos una brotara de semillas no tratadas es 0.97619\n",
      "Hecho por Juan Camilo Quiroga\n"
     ]
    }
   ],
   "source": [
    "#Solucion\n",
    "\n",
    "#i) Las cuatro plantas brotaran de semillas tratadas. (Rta: 0.0238)\n",
    "\n",
    "def fac(n): #Funcion factorial de un numero\n",
    "   if n==0 or n==1:\n",
    "            resultado=1\n",
    "   elif n>1:\n",
    "            resultado=n*fac(n-1)\n",
    "   return resultado\n",
    "\n",
    "def com(x,y): #Funcion combinacion \n",
    "    comb= (fac(x))/(fac(y)*(fac(x-y)))\n",
    "    return comb\n",
    "\n",
    "def hip(N,k,n,x): #Funcion Hipergeometrica\n",
    "    hiper=((com(k,x)*(com(N-k,n-x))))/(com(N,n))\n",
    "    return hiper\n",
    "\n",
    "N=10 #Numero de la poblacion\n",
    "k=5 #Subgrupo de la poblacion\n",
    "n=4 #Muestra\n",
    "x=4 #Numero de semillas tratadas\n",
    "\n",
    "res1 = hip(N,k,n,x) #Hipergeometrica P(x=4)\n",
    "\n",
    "print(\"i)La probabilidad de que las cuatro plantas brotaran de semillas tratadas es\",round(res1,5))\n",
    "\n",
    "#ii) Tres o menos brotaran de semillas tratadas. (Rta: 0.9762)\n",
    "\n",
    "res2 = hip(N,k,n,0) + hip(N,k,n,1) + hip(N,k,n,2) + hip(N,k,n,3) #Hipergeometrica P(x<=3) = P(x=0)+P(x=1)+P(x=2)+P(x=3)\n",
    "\n",
    "print(\"ii)La probabilidad de que tres o menos brotaran de semillas tratadas es\",round(res2,5))\n",
    "\n",
    "#iii) Al menos una brotara de semillas no tratadas (Rta:: 0.9762)\n",
    "\n",
    "res3 = 1 - hip(N,k,n,0) #Hipergeometrica P(x>=1) = 1 - P(x=0)\n",
    "\n",
    "print(\"iii)La probabilidad de quue al menos una brotara de semillas no tratadas es\",round(res3,5))\n",
    "\n",
    "print(\"Hecho por Juan Camilo Quiroga\")"
   ]
  }
 ],
 "metadata": {
  "kernelspec": {
   "display_name": "base",
   "language": "python",
   "name": "python3"
  },
  "language_info": {
   "codemirror_mode": {
    "name": "ipython",
    "version": 3
   },
   "file_extension": ".py",
   "mimetype": "text/x-python",
   "name": "python",
   "nbconvert_exporter": "python",
   "pygments_lexer": "ipython3",
   "version": "3.9.13"
  },
  "orig_nbformat": 4
 },
 "nbformat": 4,
 "nbformat_minor": 2
}
