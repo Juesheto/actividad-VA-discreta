{
 "cells": [
  {
   "attachments": {},
   "cell_type": "markdown",
   "metadata": {},
   "source": [
    "## Distribucion binomial - Ejercicio 2\n",
    "\n",
    "* **Nombre**: Samuel Toro Angarita\n",
    "* **Distribucion**: binomial\n",
    "* **Punto**: 2\n",
    "\n",
    "### Enunciado ###\n",
    "2. El sistema de seguridad de una casa está diseñado para tener un 99% de confiabilidad. Suponga que nueve casas equipadas con este sistema experimentan un intento de robo. Encuentre las probabilidades de estos eventos:\n",
    "   <ol style=\"list-style-type: lower-alpha\">\n",
    "   <li>Al menos una de las alarmas se activó. (<b>Rta</b>: 1) </li>\n",
    "   <li>Más de siete de las alarmas se activaron  (<b>Rta</b>: 0.997)</li>\n",
    "   <li>Ocho o menos alarmas se activaron   (<b>Rta</b>: 0.086)</li>\n",
    "   </ol>"
   ]
  },
  {
   "cell_type": "markdown",
   "metadata": {},
   "source": [
    "## SOLUCION:"
   ]
  },
  {
   "cell_type": "markdown",
   "metadata": {},
   "source": [
    "Lo primero que se debe hacer para este ejercicio es importar de la libreria scipy.stats la distribucion binomial."
   ]
  },
  {
   "cell_type": "code",
   "execution_count": 18,
   "metadata": {},
   "outputs": [],
   "source": [
    "from scipy.stats import binom"
   ]
  },
  {
   "cell_type": "markdown",
   "metadata": {},
   "source": [
    "## 1.)"
   ]
  },
  {
   "cell_type": "markdown",
   "metadata": {},
   "source": [
    "Ahora definiremos nuestras variables para trabajar la distribucion binomial"
   ]
  },
  {
   "cell_type": "code",
   "execution_count": 11,
   "metadata": {},
   "outputs": [],
   "source": [
    "p = 0.99 #probabilidad de exito \n",
    "n= 9 # numero de casas\n",
    "k=0 # ninguna alarma se activo "
   ]
  },
  {
   "cell_type": "markdown",
   "metadata": {},
   "source": [
    "Utilizaremos la funcion binom.pmf para hallar la funcion de masa de probabilidad "
   ]
  },
  {
   "cell_type": "code",
   "execution_count": 12,
   "metadata": {},
   "outputs": [
    {
     "name": "stdout",
     "output_type": "stream",
     "text": [
      "La probabilidad de que al menos una alarma se activo es :  1.0\n"
     ]
    }
   ],
   "source": [
    "prob= 1- binom.pmf(k,n,p)\n",
    "print(\"La probabilidad de que al menos una alarma se activo es : \", prob)"
   ]
  },
  {
   "cell_type": "markdown",
   "metadata": {},
   "source": [
    "## 2.)"
   ]
  },
  {
   "cell_type": "markdown",
   "metadata": {},
   "source": [
    "Para este punto tambien utilizaremos las librerias importadas anteriormente; ya que el codigo ya fue ejecutado no sera necesario volver a importar la distribucion "
   ]
  },
  {
   "cell_type": "markdown",
   "metadata": {},
   "source": [
    "Para este punto lo unico que haremos sera cambiar la k que definimos anteriormente por una contante que sera 7 "
   ]
  },
  {
   "cell_type": "code",
   "execution_count": 4,
   "metadata": {},
   "outputs": [
    {
     "name": "stdout",
     "output_type": "stream",
     "text": [
      "La probabilidad de mas de siete alarmas se activaran es :  0.9965642699821537\n"
     ]
    }
   ],
   "source": [
    "prob2= binom.sf(7,n,p) ## sf sera lo mismo que decir 1-binom.pmf\n",
    "print(\"La probabilidad de mas de siete alarmas se activaran es : \", prob2)"
   ]
  },
  {
   "cell_type": "markdown",
   "metadata": {},
   "source": [
    "## 3.)"
   ]
  },
  {
   "cell_type": "markdown",
   "metadata": {},
   "source": [
    "Para este punto tenemos que la probabilidad de que 8 o menos alarmas se activen sera las sumas de las probabilidades hasta 8, por lo cual lo resolveremos con un ciclo."
   ]
  },
  {
   "cell_type": "code",
   "execution_count": 5,
   "metadata": {},
   "outputs": [
    {
     "name": "stdout",
     "output_type": "stream",
     "text": [
      "La probabilidad ocho o menos alarmas se activaran es :  0.08648275251635912\n"
     ]
    }
   ],
   "source": [
    "prob3 = 0 \n",
    "for k in range(9):\n",
    "    prob3 += binom.pmf(k,n,p)\n",
    "print(\"La probabilidad ocho o menos alarmas se activaran es : \", prob3)"
   ]
  }
 ],
 "metadata": {
  "kernelspec": {
   "display_name": "Python 3 (ipykernel)",
   "language": "python",
   "name": "python3"
  },
  "language_info": {
   "codemirror_mode": {
    "name": "ipython",
    "version": 3
   },
   "file_extension": ".py",
   "mimetype": "text/x-python",
   "name": "python",
   "nbconvert_exporter": "python",
   "pygments_lexer": "ipython3",
   "version": "3.10.4"
  },
  "orig_nbformat": 4
 },
 "nbformat": 4,
 "nbformat_minor": 2
}
