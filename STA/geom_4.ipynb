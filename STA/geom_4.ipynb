{
 "cells": [
  {
   "attachments": {},
   "cell_type": "markdown",
   "metadata": {},
   "source": [
    "## Distribucion geometrica - Ejercicio 4\n",
    "\n",
    "* **Nombre**: Samuel Toro Angarita\n",
    "* **Distribucion**: geometrica\n",
    "* **Punto**: 4\n",
    "\n",
    "### Enunciado ###\n",
    "4. Una empresa de exploración petrolera va a hacer una serie de perforaciones de sondeo \n",
    "en una zona determinada en busca de un pozo productivo. La probabilidad de que tenga \n",
    "éxito en un intento dado es 0.2.\n",
    "\n",
    "a. ¿Cuál es la probabilidad de que la tercera perforación sea la primera en dar un pozo productivo? (Rta: 0.128)\n",
    "\n",
    "b. Si la empresa puede darse el lujo de perforar a lo sumo diez pozos, ¿cuál es la probabilidad de que no encuentre \n",
    "un pozo productivo? (Rta: 0.107)"
   ]
  },
  {
   "cell_type": "markdown",
   "metadata": {},
   "source": [
    "## solucion:"
   ]
  },
  {
   "cell_type": "markdown",
   "metadata": {},
   "source": [
    "Para solucionar este ejercicio no sera necesario ninguna libreria pues es un problema basante sencillo"
   ]
  },
  {
   "cell_type": "markdown",
   "metadata": {},
   "source": [
    "## 1.)"
   ]
  },
  {
   "cell_type": "code",
   "execution_count": 1,
   "metadata": {},
   "outputs": [
    {
     "name": "stdout",
     "output_type": "stream",
     "text": [
      "La probabilidad de que la tercera perforación sea la primera en dar un pozo productivo es:  0.12800000000000003\n"
     ]
    }
   ],
   "source": [
    "p = 0.2 # probabilidad de exito en un intento dado\n",
    "q = 1 - p \n",
    "n = 3 # tres perforaciones\n",
    "prob = p * q**(n-1)\n",
    "print(\"La probabilidad de que la tercera perforación sea la primera en dar un pozo productivo es: \", prob)"
   ]
  },
  {
   "cell_type": "markdown",
   "metadata": {},
   "source": [
    "## 2.)"
   ]
  },
  {
   "cell_type": "code",
   "execution_count": 2,
   "metadata": {},
   "outputs": [
    {
     "name": "stdout",
     "output_type": "stream",
     "text": [
      "la probabilidad de que no encuentre un pozo productivo luego de diez perforavciones es:  0.10737418240000006\n"
     ]
    }
   ],
   "source": [
    "n= 10 #diez perforaciones \n",
    "prob2 = q**n \n",
    "print(\"la probabilidad de que no encuentre un pozo productivo luego de diez perforavciones es: \",prob2)"
   ]
  }
 ],
 "metadata": {
  "kernelspec": {
   "display_name": "Python 3 (ipykernel)",
   "language": "python",
   "name": "python3"
  },
  "language_info": {
   "codemirror_mode": {
    "name": "ipython",
    "version": 3
   },
   "file_extension": ".py",
   "mimetype": "text/x-python",
   "name": "python",
   "nbconvert_exporter": "python",
   "pygments_lexer": "ipython3",
   "version": "3.10.4"
  },
  "orig_nbformat": 4
 },
 "nbformat": 4,
 "nbformat_minor": 2
}
