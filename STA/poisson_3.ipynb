{
 "cells": [
  {
   "attachments": {},
   "cell_type": "markdown",
   "metadata": {},
   "source": [
    "## Distribucion poisson - Ejercicio 3\n",
    "\n",
    "* **Nombre**: Samuel Toro Angarita\n",
    "* **Distribucion**: poisson\n",
    "* **Punto**: 3\n",
    "\n",
    "### Enunciado ###\n",
    "\n",
    "3. El incremento del número de vuelos regionales cortos en aeropuertos importantes ha \n",
    "aumentado la preocupación por la seguridad en el aire. Un aeropuerto de la región \n",
    "este ha registrado un promedio mensual de cinco accidentes a punto de ocurrir en \n",
    "aterrizajes y despegues en los últimos 5 años.\n",
    "\n",
    "a. Encuentre la probabilidad de que durante un mes determinado no haya accidentes \n",
    "a punto de ocurrir en aterrizajes y despegues en el aeropuerto. (Rta: 0.0067)\n",
    "\n",
    "b. Encuentre la probabilidad de que durante un mes determinado haya cinco accidentes \n",
    "a punto de ocurrir. (Rta: 0.1755)\n",
    "\n",
    "c. Encuentre la probabilidad de que haya al menos cinco accidentes a punto de ocurrir \n",
    "durante un mes particular. (Rta: 0.560)"
   ]
  },
  {
   "cell_type": "markdown",
   "metadata": {},
   "source": [
    "## Solucion"
   ]
  },
  {
   "cell_type": "markdown",
   "metadata": {},
   "source": [
    "Utilizaremos la libreria math para poder utilizar la funcion factorial"
   ]
  },
  {
   "cell_type": "markdown",
   "metadata": {},
   "source": [
    "## 1.)"
   ]
  },
  {
   "cell_type": "code",
   "execution_count": 7,
   "metadata": {},
   "outputs": [
    {
     "name": "stdout",
     "output_type": "stream",
     "text": [
      "la probabilidad de que durante un mes determinado no haya accidentes a punto de ocurrir en aterrizajes y despegues en el aeropuerto es: 0.006737946999085467\n"
     ]
    }
   ],
   "source": [
    "import math \n",
    "\n",
    "lambda_ = 5\n",
    "frecuencia = 0\n",
    "probabilidad = math.exp(-lambda_) * (lambda_ ** frecuencia) / math.factorial(frecuencia)\n",
    "print(\"la probabilidad de que durante un mes determinado no haya accidentes a punto de ocurrir en aterrizajes y despegues en el aeropuerto es:\",probabilidad)"
   ]
  },
  {
   "cell_type": "markdown",
   "metadata": {},
   "source": [
    "## 2.)"
   ]
  },
  {
   "cell_type": "code",
   "execution_count": 8,
   "metadata": {},
   "outputs": [
    {
     "name": "stdout",
     "output_type": "stream",
     "text": [
      "la probabilidad de que durante un mes determinado haya cinco accidentes a punto de ocurrir 0.1754673697678507\n"
     ]
    }
   ],
   "source": [
    "lambda_ = 5\n",
    "frecuencia = 5\n",
    "probabilidad = math.exp(-lambda_) * (lambda_ ** frecuencia) / math.factorial(frecuencia)\n",
    "print(\"la probabilidad de que durante un mes determinado haya cinco accidentes a punto de ocurrir\",probabilidad)"
   ]
  },
  {
   "cell_type": "markdown",
   "metadata": {},
   "source": [
    "## 3.)"
   ]
  },
  {
   "cell_type": "code",
   "execution_count": 9,
   "metadata": {},
   "outputs": [
    {
     "name": "stdout",
     "output_type": "stream",
     "text": [
      "la probabilidad de que haya al menos cinco accidentes a punto de ocurrir durante un mes particular 0.5458114463364047\n"
     ]
    }
   ],
   "source": [
    "lambda_ = 5\n",
    "probabilidad = 0\n",
    "for i in range(5, 11):\n",
    "    probabilidad += math.exp(-lambda_) * (lambda_ ** i) / math.factorial(i)\n",
    "print(\"la probabilidad de que haya al menos cinco accidentes a punto de ocurrir durante un mes particular\",probabilidad)"
   ]
  }
 ],
 "metadata": {
  "kernelspec": {
   "display_name": "Python 3 (ipykernel)",
   "language": "python",
   "name": "python3"
  },
  "language_info": {
   "codemirror_mode": {
    "name": "ipython",
    "version": 3
   },
   "file_extension": ".py",
   "mimetype": "text/x-python",
   "name": "python",
   "nbconvert_exporter": "python",
   "pygments_lexer": "ipython3",
   "version": "3.10.4"
  },
  "orig_nbformat": 4
 },
 "nbformat": 4,
 "nbformat_minor": 2
}
