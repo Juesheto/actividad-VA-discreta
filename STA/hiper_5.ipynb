{
 "cells": [
  {
   "attachments": {},
   "cell_type": "markdown",
   "metadata": {},
   "source": [
    "## Distribucion hipergeometrica - Ejercicio 5\n",
    "\n",
    "* **Nombre**: Samuel Toro Angarita\n",
    "* **Distribucion**: hipergeometrica\n",
    "* **Punto**: 4\n",
    "\n",
    "### Enunciado ###\n",
    "\n",
    "5. Una corporación está muestreando sin reemplazo para n = 3 firmas para determinar aquella \n",
    "de la cual comprar ciertos abastecimientos. La muestra se ha de seleccionar de un grupo de \n",
    "seis fi rmas, de las cuales cuatro son locales y dos no. Denote con Y el número de firmas \n",
    "no locales de entre las tres seleccionadas.\n",
    "\n",
    "a. P(Y = 1) (Rta: 0.6)\n",
    "\n",
    "b. P(Y >= 1) (Rta: 0.8)\n",
    "\n",
    "c. P(Y <= 1) (Rta: 0.8)"
   ]
  },
  {
   "cell_type": "markdown",
   "metadata": {},
   "source": [
    "## solucion"
   ]
  },
  {
   "cell_type": "markdown",
   "metadata": {},
   "source": [
    "Para este ejercicio sera necesario utilizar la libreria scipy ya que con esta tendremos las funciones para la distribucion hipergeometrica"
   ]
  },
  {
   "cell_type": "markdown",
   "metadata": {},
   "source": [
    "## 1.)"
   ]
  },
  {
   "cell_type": "code",
   "execution_count": 6,
   "metadata": {},
   "outputs": [
    {
     "name": "stdout",
     "output_type": "stream",
     "text": [
      "P(Y = 1): 0.6000000000000001\n"
     ]
    }
   ],
   "source": [
    "import scipy.stats as stats\n",
    "\n",
    "# P(Y = 1)\n",
    "M = 2 # número de firmas no locales\n",
    "N = 6 # tamaño de la población\n",
    "n = 3 # tamaño de la muestra\n",
    "k = 1 # número de firmas no locales en la muestra\n",
    "prob1 = stats.hypergeom.pmf(k, N, M, n)\n",
    "print(\"P(Y = 1):\", prob1)\n"
   ]
  },
  {
   "cell_type": "markdown",
   "metadata": {},
   "source": [
    "## 2.)"
   ]
  },
  {
   "cell_type": "code",
   "execution_count": 4,
   "metadata": {},
   "outputs": [
    {
     "name": "stdout",
     "output_type": "stream",
     "text": [
      "P(Y >= 1): 0.8000000000000002\n"
     ]
    }
   ],
   "source": [
    "# P(Y >= 1)\n",
    "k_values = [1, 2, 3]\n",
    "prob2 = sum(stats.hypergeom.pmf(k_values, N, M, n))\n",
    "print(\"P(Y >= 1):\", prob2)"
   ]
  },
  {
   "cell_type": "markdown",
   "metadata": {},
   "source": [
    "## 3.)"
   ]
  },
  {
   "cell_type": "code",
   "execution_count": 5,
   "metadata": {},
   "outputs": [
    {
     "name": "stdout",
     "output_type": "stream",
     "text": [
      "P(Y <= 1): 0.8000000000000002\n"
     ]
    }
   ],
   "source": [
    "# P(Y <= 1)\n",
    "prob3 = sum(stats.hypergeom.pmf(k_values[:2], N, M, n))\n",
    "print(\"P(Y <= 1):\", prob3)"
   ]
  }
 ],
 "metadata": {
  "kernelspec": {
   "display_name": "Python 3 (ipykernel)",
   "language": "python",
   "name": "python3"
  },
  "language_info": {
   "codemirror_mode": {
    "name": "ipython",
    "version": 3
   },
   "file_extension": ".py",
   "mimetype": "text/x-python",
   "name": "python",
   "nbconvert_exporter": "python",
   "pygments_lexer": "ipython3",
   "version": "3.10.4"
  },
  "orig_nbformat": 4
 },
 "nbformat": 4,
 "nbformat_minor": 2
}
