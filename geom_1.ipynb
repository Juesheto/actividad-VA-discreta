{
 "cells": [
  {
   "attachments": {},
   "cell_type": "markdown",
   "metadata": {},
   "source": [
    "**Geometrica punto 1**\n",
    "\n",
    "Suponga que la probabilidad de mal funcionamiento de un motor durante cualquier periodo de una hora es p = 0.02. Encuentre la probabilidad de que un motor determinado funcione bien dos horas.\n",
    "\n",
    " **(Rta: 0.9604)**"
   ]
  },
  {
   "cell_type": "code",
   "execution_count": 1,
   "metadata": {},
   "outputs": [
    {
     "name": "stdout",
     "output_type": "stream",
     "text": [
      "La probabilidad de que un motor funcione bien por dos horas es: 0.9604\n"
     ]
    }
   ],
   "source": [
    "p = 0.02  # probabilidad de mal funcionamiento en una hora\n",
    "n = 2     # número de horas\n",
    "q = 1 - p # probabilidad de funcionamiento en una hora\n",
    "\n",
    "prob = q**n # probabilidad de funcionamiento en n horas\n",
    "\n",
    "print(\"La probabilidad de que un motor funcione bien por dos horas es:\", round(prob, 4))\n"
   ]
  }
 ],
 "metadata": {
  "kernelspec": {
   "display_name": "Xabsantiago",
   "language": "python",
   "name": "python3"
  },
  "language_info": {
   "codemirror_mode": {
    "name": "ipython",
    "version": 3
   },
   "file_extension": ".py",
   "mimetype": "text/x-python",
   "name": "python",
   "nbconvert_exporter": "python",
   "pygments_lexer": "ipython3",
   "version": "3.9.12"
  },
  "orig_nbformat": 4
 },
 "nbformat": 4,
 "nbformat_minor": 2
}
