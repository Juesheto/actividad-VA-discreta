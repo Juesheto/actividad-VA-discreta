{
 "cells": [
  {
   "attachments": {},
   "cell_type": "markdown",
   "metadata": {},
   "source": [
    "**Binomial punto 4**\n",
    "\n",
    "Unos registros muestran que 30% de todos los pacientes ingresados en una clínica médica no pagan sus cuentas y que, en última instancia, esas cuentas son olvidadas. Suponga que n = 4 nuevos pacientes representan una selección aleatoria de entre un gran conjunto de prospectos de pacientes atendidos por la clínica. Encuentre estas probabilidades::\n",
    "\n",
    "Las cuentas de todos los pacientes tendrán finalmente que olvidarse. **(Rta: 0.0081)**\n",
    "\n",
    "Una tendrá que olvidarse. **(Rta: 0.4416)**\n",
    "\n",
    "Ninguna tendrá que olvidarse.**(Rta: 0.2401)**\n"
   ]
  },
  {
   "cell_type": "code",
   "execution_count": 3,
   "metadata": {},
   "outputs": [
    {
     "name": "stdout",
     "output_type": "stream",
     "text": [
      "Probabilidad de que todas las cuentas sean olvidadas: 0.0081\n",
      "Probabilidad de que una cuenta deba ser olvidada: 0.412\n",
      "Probabilidad de que ninguna cuenta deba ser olvidada:  0.24\n"
     ]
    }
   ],
   "source": [
    "from scipy.stats import binom\n",
    "\n",
    "p = 0.3\n",
    "n = 4\n",
    "\n",
    "# Punto 1\n",
    "prob1 = binom.pmf(4, n, p)\n",
    "print(\"Probabilidad de que todas las cuentas sean olvidadas:\", round(prob1,4))\n",
    "\n",
    "# Punto 2\n",
    "prob2 = binom.pmf(1, n, p)\n",
    "print(\"Probabilidad de que una cuenta deba ser olvidada:\", round(prob2,3))\n",
    "\n",
    "# Punto 3\n",
    "prob3 = binom.pmf(0, n, p)\n",
    "print(\"Probabilidad de que ninguna cuenta deba ser olvidada: \", round(prob3,3))\n"
   ]
  }
 ],
 "metadata": {
  "kernelspec": {
   "display_name": "Python 3",
   "language": "python",
   "name": "python3"
  },
  "language_info": {
   "codemirror_mode": {
    "name": "ipython",
    "version": 3
   },
   "file_extension": ".py",
   "mimetype": "text/x-python",
   "name": "python",
   "nbconvert_exporter": "python",
   "pygments_lexer": "ipython3",
   "version": "3.9.12"
  },
  "orig_nbformat": 4
 },
 "nbformat": 4,
 "nbformat_minor": 2
}
