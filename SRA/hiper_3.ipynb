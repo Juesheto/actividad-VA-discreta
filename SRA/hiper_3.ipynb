{
 "cells": [
  {
   "attachments": {},
   "cell_type": "markdown",
   "metadata": {},
   "source": [
    "**Hipergeometrica punto 3**\n",
    "\n",
    "Un producto industrial se envía en lotes de 20. Es costoso realizar pruebas para determinar si un artículo es defectuoso y, por tanto, el fabricante muestrea su producción en lugar de usar un plan de inspección al 100%. Un plan de muestreo, construido para minimizar el número de piezas defectuosas enviadas a los clientes, exige muestrear cinco artículos de cada lote y rechazar el lote si se observa más de una pieza defectuosa. (Si el lote es rechazado, cada artículo del mismo se prueba posteriormente.) Si un lote contiene cuatro piezas defectuosas:\n",
    "\n",
    "¿cuál es la probabilidad de que sea rechazado? **(Rta: 0.2487)**\n",
    "\n",
    "¿Cuál es el número esperado de piezas defectuosas en la muestra de tamaño 5? **(Rta: 1)**\n",
    "\n",
    "¿Cuál es la varianza del número de piezas defectuosas de la muestra de tamaño 5? **(Rta: 0.632)**\n"
   ]
  },
  {
   "cell_type": "code",
   "execution_count": 1,
   "metadata": {},
   "outputs": [
    {
     "name": "stdout",
     "output_type": "stream",
     "text": [
      "Probabilidad de que sea rechazado: 0.2487\n",
      "Número esperado de piezas defectuosas: 1.0\n",
      "Varianza del número de piezas defectuosas: 0.632\n"
     ]
    }
   ],
   "source": [
    "from scipy.stats import hypergeom\n",
    "\n",
    "# Parámetros\n",
    "N = 20\n",
    "K = 4\n",
    "n = 5\n",
    "\n",
    "# Probabilidad de que sea rechazado\n",
    "prob_rechazo = hypergeom.pmf(2, N, K, n) + hypergeom.pmf(3, N, K, n) + hypergeom.pmf(4, N, K, n)\n",
    "print(\"Probabilidad de que sea rechazado:\", round(prob_rechazo, 4))\n",
    "\n",
    "# Número esperado de piezas defectuosas en la muestra de tamaño 5\n",
    "esperanza = hypergeom.mean(N, K, n)\n",
    "print(\"Número esperado de piezas defectuosas:\", round(esperanza, 2))\n",
    "\n",
    "# Varianza del número de piezas defectuosas en la muestra de tamaño 5\n",
    "varianza = hypergeom.var(N, K, n)\n",
    "print(\"Varianza del número de piezas defectuosas:\", round(varianza, 3))\n"
   ]
  }
 ],
 "metadata": {
  "kernelspec": {
   "display_name": "Xabsantiago",
   "language": "python",
   "name": "python3"
  },
  "language_info": {
   "codemirror_mode": {
    "name": "ipython",
    "version": 3
   },
   "file_extension": ".py",
   "mimetype": "text/x-python",
   "name": "python",
   "nbconvert_exporter": "python",
   "pygments_lexer": "ipython3",
   "version": "3.9.12"
  },
  "orig_nbformat": 4
 },
 "nbformat": 4,
 "nbformat_minor": 2
}
