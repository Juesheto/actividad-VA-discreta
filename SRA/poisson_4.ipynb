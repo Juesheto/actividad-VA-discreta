{
 "cells": [
  {
   "attachments": {},
   "cell_type": "markdown",
   "metadata": {},
   "source": [
    "**Poisson punto 4**\n",
    "\n",
    "De acuerdo con un estudio realizado por el Departamento de Pediatría de la Universidad de California, en San Francisco, los niños que se lesionan dos o más veces tienden a sufrir estas lesiones durante un tiempo relativamente limitado, por lo general un año o menos. Si el número promedio de lesiones por año para niños en edad escolar es de dos, ¿cuáles son las probabilidades de estos eventos?\n",
    "\n",
    "Un niño en edad escolar sufrirá dos lesiones durante el año. **(Rta: 0.271)**\n",
    "\n",
    "Un niño en edad escolar sufrirá dos o más lesiones durante el año. **(Rta: 0.594)**\n",
    "\n",
    "Un niño en edad escolar sufrirá a lo sumo una lesión durante el año. **(Rta: 0.406)**\n"
   ]
  },
  {
   "cell_type": "code",
   "execution_count": 2,
   "metadata": {},
   "outputs": [
    {
     "name": "stdout",
     "output_type": "stream",
     "text": [
      "Probabilidad de que un niño sufra exactamente dos lesiones en un año: 0.296\n",
      "Probabilidad de que un niño sufra dos o más lesiones en un año: 0.619\n",
      "Probabilidad de que un niño sufra a lo sumo una lesión en un año: 0.381\n"
     ]
    }
   ],
   "source": [
    "import numpy as np\n",
    "\n",
    "# Probabilidad de que un niño sufra dos lesiones en un año\n",
    "p = 2/12  # dos lesiones en 12 meses\n",
    "\n",
    "# Probabilidad de que un niño sufra exactamente dos lesiones\n",
    "prob1 = np.math.comb(12, 2) * (p**2) * ((1-p)**10)\n",
    "print(\"Probabilidad de que un niño sufra exactamente dos lesiones en un año:\", round(prob1, 3))\n",
    "\n",
    "# Probabilidad de que un niño sufra dos o más lesiones\n",
    "prob2 = 1 - ((1-p)**12) - 12*p*((1-p)**11)\n",
    "print(\"Probabilidad de que un niño sufra dos o más lesiones en un año:\", round(prob2, 3))\n",
    "\n",
    "# Probabilidad de que un niño sufra a lo sumo una lesión\n",
    "prob3 = (1-p)**12 + 12*p*((1-p)**11)\n",
    "print(\"Probabilidad de que un niño sufra a lo sumo una lesión en un año:\", round(prob3, 3))\n"
   ]
  }
 ],
 "metadata": {
  "kernelspec": {
   "display_name": "Xabsantiago",
   "language": "python",
   "name": "python3"
  },
  "language_info": {
   "codemirror_mode": {
    "name": "ipython",
    "version": 3
   },
   "file_extension": ".py",
   "mimetype": "text/x-python",
   "name": "python",
   "nbconvert_exporter": "python",
   "pygments_lexer": "ipython3",
   "version": "3.9.12"
  },
  "orig_nbformat": 4
 },
 "nbformat": 4,
 "nbformat_minor": 2
}
